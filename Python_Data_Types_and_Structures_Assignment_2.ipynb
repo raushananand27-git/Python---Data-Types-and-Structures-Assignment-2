{
  "nbformat": 4,
  "nbformat_minor": 0,
  "metadata": {
    "colab": {
      "provenance": []
    },
    "kernelspec": {
      "name": "python3",
      "display_name": "Python 3"
    },
    "language_info": {
      "name": "python"
    }
  },
  "cells": [
    {
      "cell_type": "markdown",
      "source": [
        "# Python - Data Types and Structures: Assignment 2\n",
        "\n",
        "\n",
        "#Theoretical Questions\n",
        "\n"
      ],
      "metadata": {
        "id": "s2X-7w2zu_wk"
      }
    },
    {
      "cell_type": "markdown",
      "source": [
        "*Question* 1: What are data structures, and why are they important?\n",
        "\n",
        "  - In Python, data structures are the special ways of storing and organizing data so that it can be used easily and efficiently. They help to arrange data in a proper format which makes it simple to access, modify and manage. Python provides several built-in data structures such as lists, tuples, sets, and dictionaries, each designed for different purposes.\n",
        "\n",
        "\n",
        "     Importance of data structures:\n",
        "\n",
        "    >They allow data to be stored in a systematic way.\n",
        "\n",
        "    >They make searching, updating, and deleting data easier.\n",
        "\n",
        "    >They help in solving real-world problems like handling student records, bank transactions, or inventory systems.\n",
        "\n",
        "    >They improve program efficiency and performance.\n",
        "\n",
        "    >They make the code more organized and readable."
      ],
      "metadata": {
        "id": "PY_sANunvRw8"
      }
    },
    {
      "cell_type": "code",
      "source": [
        "# Question 2: Explain the difference between mutable and immutable data types with examples\n",
        "\n",
        "\"\"\"\n",
        "In Python, data types are classified as mutable and immutable based on whether their values can be changed after creation.\n",
        "Mutable data types can be modified without creating a new object, while immutable data types cannot be changed once created, and any modification creates a new object.\n",
        "For example: Lists, sets, and dictionaries are mutable, while strings, tuples, and numbers are immutable.\n",
        "\"\"\"\n",
        "#Examples:\n",
        "  #Mutable Data Types:- Values can be changed after creation.\n",
        "  #Example: List\n",
        "\n",
        "my_list = [1, 2, 3]\n",
        "my_list[0] = 10\n",
        "print(my_list)  #output: [10, 2, 3]\n",
        "\n",
        "#Immutable Data Types: Values cannot be changed once created.\n",
        "  #Example: Tuple\n",
        "\n",
        "my_tuple = (1, 2, 3)\n",
        "my_tuple[0] = 10   # This will give an error\n",
        "print(my_tuple)     # Output: (1, 2, 3)"
      ],
      "metadata": {
        "colab": {
          "base_uri": "https://localhost:8080/",
          "height": 211
        },
        "id": "OlPz3SiA6ykC",
        "outputId": "43822e4b-1301-4ac0-eb4b-d29d88a43ccd"
      },
      "execution_count": null,
      "outputs": [
        {
          "output_type": "stream",
          "name": "stdout",
          "text": [
            "[10, 2, 3]\n"
          ]
        },
        {
          "output_type": "error",
          "ename": "TypeError",
          "evalue": "'tuple' object does not support item assignment",
          "traceback": [
            "\u001b[0;31m---------------------------------------------------------------------------\u001b[0m",
            "\u001b[0;31mTypeError\u001b[0m                                 Traceback (most recent call last)",
            "\u001b[0;32m/tmp/ipython-input-2746940393.py\u001b[0m in \u001b[0;36m<cell line: 0>\u001b[0;34m()\u001b[0m\n\u001b[1;32m     18\u001b[0m \u001b[0;34m\u001b[0m\u001b[0m\n\u001b[1;32m     19\u001b[0m \u001b[0mmy_tuple\u001b[0m \u001b[0;34m=\u001b[0m \u001b[0;34m(\u001b[0m\u001b[0;36m1\u001b[0m\u001b[0;34m,\u001b[0m \u001b[0;36m2\u001b[0m\u001b[0;34m,\u001b[0m \u001b[0;36m3\u001b[0m\u001b[0;34m)\u001b[0m\u001b[0;34m\u001b[0m\u001b[0;34m\u001b[0m\u001b[0m\n\u001b[0;32m---> 20\u001b[0;31m \u001b[0mmy_tuple\u001b[0m\u001b[0;34m[\u001b[0m\u001b[0;36m0\u001b[0m\u001b[0;34m]\u001b[0m \u001b[0;34m=\u001b[0m \u001b[0;36m10\u001b[0m   \u001b[0;31m# This will give an error\u001b[0m\u001b[0;34m\u001b[0m\u001b[0;34m\u001b[0m\u001b[0m\n\u001b[0m\u001b[1;32m     21\u001b[0m \u001b[0mprint\u001b[0m\u001b[0;34m(\u001b[0m\u001b[0mmy_tuple\u001b[0m\u001b[0;34m)\u001b[0m     \u001b[0;31m# Output: (1, 2, 3)\u001b[0m\u001b[0;34m\u001b[0m\u001b[0;34m\u001b[0m\u001b[0m\n",
            "\u001b[0;31mTypeError\u001b[0m: 'tuple' object does not support item assignment"
          ]
        }
      ]
    },
    {
      "cell_type": "markdown",
      "source": [
        "*Question* 3: What are the main differences between lists and tuples in Python?\n",
        "\n",
        "- Lists and tuples are both used to store collections of items in Python, but they differ mainly in mutability.\n",
        "A list is mutable, meaning its elements can be changed, added, or removed. A tuple is immutable, which means once it is created, its elements cannot be changed.\n",
        "\n",
        "\n",
        "  Lists are defined using square brackets [] and tuples defined using parentheses ()\n",
        "\n",
        "  Lists are used when data needs to be modified and tuples are used when data should remain constant\n",
        "\n",
        "  Example:\n",
        "\n",
        "  list = [1,2,3,4]\n",
        "  \n",
        "  tuple = (1,2,3,4)"
      ],
      "metadata": {
        "id": "kfEf_dUk1h5D"
      }
    },
    {
      "cell_type": "code",
      "source": [
        "# Question 4: Describe how dictionaries store data?\n",
        "\n",
        "\"\"\"\n",
        "A dictionary in python is a built-in data structure that stores data in the form of key-value pairs.\n",
        "Each key acts as a unique identifier, and the value is the data associated with that key.\n",
        "This makes dictionaries very useful for quick lookups and mapping relationships between items.\n",
        "\n",
        "Dictionaries Store Data as:\n",
        "\n",
        ">Data is stored as key: value pairs.\n",
        ">Keys must be unique and immutable (like strings, numbers, or tuples).\n",
        ">Values can be of any data type (numbers, strings, lists, etc.).\n",
        ">Dictionaries are mutable, so values can be changed, added, or removed.\n",
        "\"\"\"\n",
        "#Example:\n",
        "student = {\"name\": \"Rahul\", \"age\": 20, \"course\": \"Python\"}\n",
        "print(student[\"name\"])   # Output: Rahul"
      ],
      "metadata": {
        "colab": {
          "base_uri": "https://localhost:8080/"
        },
        "id": "QrpEuL6oB6Xl",
        "outputId": "6bdd308c-e246-47c7-bce5-2aa53aa52736"
      },
      "execution_count": null,
      "outputs": [
        {
          "output_type": "stream",
          "name": "stdout",
          "text": [
            "Rahul\n"
          ]
        }
      ]
    },
    {
      "cell_type": "markdown",
      "source": [
        "*Question* 5: Why might you use a set instead of a list in Python?\n",
        "\n",
        "  - A set in python is a collection data type that stores unique elements without maintaining any order.\n",
        "While both sets and lists can store multiple items, sets are more useful when you want to avoid duplicates and perform mathematical operations like union, intersection, or difference.\n",
        "\n",
        "- Reasons to Use a Set Instead of a List (Points):\n",
        "\n",
        ">No Duplicates: Automatically removes duplicate elements.\n",
        "\n",
        ">Fast Operations: Provides faster membership testing (checking if an item exists).\n",
        "\n",
        ">Mathematical Use: Supports union, intersection, and difference operations.\n",
        "\n",
        ">Data Integrity: Useful when uniqueness of data is important."
      ],
      "metadata": {
        "id": "O4x6b5HKA1wt"
      }
    },
    {
      "cell_type": "markdown",
      "source": [
        "*Question* 6:  What is a string in Python, and how is it different from a list?\n",
        "\n",
        "-  In Python, a string is a sequence of characters enclosed within single quotes, double quotes, or triple quotes. Strings are used to represent text data, like words, sentences, or symbols. A list, on the other hand, is a collection of items that can store different data types and can be modified.\n",
        "\n",
        "- Example:\n",
        "\n",
        "  str = \"hello\"\n",
        "\n",
        "  list = [1, \"hello\", 3.5]"
      ],
      "metadata": {
        "id": "ojGBSNBGECmB"
      }
    },
    {
      "cell_type": "markdown",
      "source": [
        "*Question* 7:  How do tuples ensure data integrity in Python?\n",
        "\n",
        "- Tuples in python are immutable, which means their elements cannot be changed once they are created. Because of this immutability, tuples protect the data from accidental modifications, making them reliable for storing fixed collections of items. This property ensures data integrity, especially when data should remain constant throughout the program."
      ],
      "metadata": {
        "id": "QDu2NMIuLHzl"
      }
    },
    {
      "cell_type": "markdown",
      "source": [
        "*Question* 8:  What is a hash table, and how does it relate to dictionaries in Python?\n",
        "\n",
        "- A hash table is a data structure that stores data in key-value pairs using a technique called hashing. Hashing converts a key into an index, which helps in storing and quickly retrieving values. In Python, the dictionary is implemented internally using a hash table, which is why dictionary lookups are very fast.\n",
        "\n",
        "- Relation to Dictionaries:-\n",
        "\n",
        "  >Dictionary = Hash Table: Python dictionaries are built on hash table concepts.\n",
        "\n",
        "  >Fast Access: Keys are converted into hash values, which point to the memory location of the value.\n",
        "\n",
        "  >Unique Keys: Just like hash tables, dictionary keys must be unique.\n",
        "\n",
        "  >Efficiency: Provides average-case O(1) time complexity for searching, inserting, and deleting.\n",
        "\n",
        "  >Flexibility: Allows storing different types of data as values.\n"
      ],
      "metadata": {
        "id": "QKSY6wJHMAKJ"
      }
    },
    {
      "cell_type": "markdown",
      "source": [
        "*Question* 9:  Can lists contain different data types in Python?\n",
        "\n",
        "- Yes, in python a list can contain elements of different data types. Unlike some programming languages that restrict lists to a single type, Python lists are flexible and can store integers, floats, strings, booleans, or even other lists together in the same list."
      ],
      "metadata": {
        "id": "xx-6MgErNnOc"
      }
    },
    {
      "cell_type": "markdown",
      "source": [
        "*Question* 10: Explain why strings are immutable in Python.\n",
        "\n",
        "- Strings in python are immutable, which means once a string is created, its content cannot be changed. If we try to modify a string, Python actually creates a new string object instead of altering the original one. This design choice ensures data safety and consistency because the original string remains unchanged. It also allows Python to store and reuse the same string object in memory, which improves efficiency. Another important reason is that immutable strings can be used as keys in dictionaries or stored in sets, since their values cannot change unexpectedly."
      ],
      "metadata": {
        "id": "dHFxa5HaODoO"
      }
    },
    {
      "cell_type": "markdown",
      "source": [
        "*Question* 11: What advantages do dictionaries offer over lists for certain tasks?\n",
        "\n",
        "- Dictionaries in python provide a major advantage over lists when data needs to be stored and accessed using a unique identifier rather than just an index. Unlike lists, which require searching through elements sequentially, dictionaries allow direct access to values through keys, making lookups much faster. They are also better suited for tasks where each piece of data has a specific label or property, such as storing student details with their roll number, product details with an ID, or any kind of key-value mapping. This structure makes dictionaries more efficient, organized, and convenient for handling real-world data compared to lists."
      ],
      "metadata": {
        "id": "eplsp5ooO2oR"
      }
    },
    {
      "cell_type": "code",
      "source": [
        "#Question 12: Describe a scenario where using a tuple would be preferable over a list.\n",
        "\n",
        "\"\"\"\n",
        "Suppose a student wants to store their date of birth in a program.\n",
        "Since the date of birth never changes, it is better to use a tuple instead of a list.\n",
        "By using a tuple, the values like day, month, and year remain fixed and cannot be modified by mistake.\n",
        "This ensures that important information stays safe throughout the program.\n",
        "\"\"\"\n",
        "#Example:\n",
        "dob = (15, \"August\", 2002)\n",
        "print(\"Date of Birth:\", dob)\n",
        "\n",
        "# Trying to change the year will cause an error\n",
        "# dob[2] = 2003   # Not allowed as tuples are immutable"
      ],
      "metadata": {
        "id": "KMVKINJcFrPT",
        "colab": {
          "base_uri": "https://localhost:8080/"
        },
        "outputId": "6a529c89-6290-4577-8418-6cc0f99a6a29"
      },
      "execution_count": 2,
      "outputs": [
        {
          "output_type": "stream",
          "name": "stdout",
          "text": [
            "Date of Birth: (15, 'August', 2002)\n"
          ]
        }
      ]
    },
    {
      "cell_type": "markdown",
      "source": [
        "*Question* 13: How do sets handle duplicate values in Python?\n",
        "\n",
        "- In python, sets automatically remove duplicate values and store only unique elements. If the same value is added multiple times, the set keeps only one copy of it. This behavior makes sets very useful when we need to ensure uniqueness in a collection, like storing distinct items from a list or removing repeated entries. For example, if a set contains {1, 2, 2, 3, 3, 3, 4}, the duplicates are automatically removed, and the set only keeps {1, 2, 3, 4}"
      ],
      "metadata": {
        "id": "DYiGi7_vRAE6"
      }
    },
    {
      "cell_type": "code",
      "source": [
        "# Question 14: How does the “in” keyword work differently for lists and dictionaries?\n",
        "\n",
        "\"\"\"\n",
        "In python, the in keyword is used to check if an element exists in a collection, but it works differently for lists and dictionaries.\n",
        "For a list, in checks whether a specific value is present anywhere in the list.\n",
        "For a dictionary, in only checks if the specified key exists, not the value.\n",
        "This is important because searching for a value in a dictionary requires extra steps, whereas for lists the in keyword directly checks all elements.\n",
        "\"\"\"\n",
        "# Example:\n",
        "# Using 'in' with a list\n",
        "my_list = [1, 2, 3]\n",
        "print(2 in my_list)   # Output: True\n",
        "print(5 in my_list)   # Output: False\n",
        "\n",
        "# Using 'in' with a dictionary\n",
        "my_dict = {\"a\": 1, \"b\": 2}\n",
        "print(\"a\" in my_dict)  # Output: True (checks keys)\n",
        "print(1 in my_dict)    # Output: False (does not check values)"
      ],
      "metadata": {
        "colab": {
          "base_uri": "https://localhost:8080/"
        },
        "id": "l5vofGf5QzXL",
        "outputId": "930e0282-37d8-46bf-aad7-69ac6e33a712"
      },
      "execution_count": 3,
      "outputs": [
        {
          "output_type": "stream",
          "name": "stdout",
          "text": [
            "True\n",
            "False\n",
            "True\n",
            "False\n"
          ]
        }
      ]
    },
    {
      "cell_type": "code",
      "source": [
        "# Question 15: Can you modify the elements of a tuple? Explain why or why not\n",
        "\n",
        "\"\"\"\n",
        "No, you cannot modify the elements of a tuple in python because tuples are immutable.\n",
        "Once a tuple is created, its elements cannot be changed, added, or removed.\n",
        "This immutability ensures that the data stored in a tuple remains constant and safe from accidental modifications.\n",
        "If you try to change an element, Python will raise an error.\n",
        "For example, if you have a tuple t = (1, 2, 3) and try to assign t[0] = 10, it will result in a TypeError.\n",
        "This property makes tuples useful for storing fixed collections of data, like coordinates, dates, or constant settings.\n",
        "\"\"\"\n",
        "\n",
        "# Example:\n",
        "\n",
        "t = (1, 2, 3)\n",
        "#t[0] = 10   # This will cause an error\n",
        "print(t)       # Output: (1, 2, 3)"
      ],
      "metadata": {
        "colab": {
          "base_uri": "https://localhost:8080/"
        },
        "id": "-juut_mmUOTu",
        "outputId": "d0eb488b-f865-48b2-d531-63a9a1197b16"
      },
      "execution_count": 21,
      "outputs": [
        {
          "output_type": "stream",
          "name": "stdout",
          "text": [
            "(1, 2, 3)\n"
          ]
        }
      ]
    },
    {
      "cell_type": "code",
      "source": [
        "# Question 16:  What is a nested dictionary, and give an example of its use case?\n",
        "\n",
        "\"\"\"\n",
        "A nested dictionary in python is a dictionary that contains another dictionary as its value for one or more keys.\n",
        "This allows us to store complex, hierarchical data in a structured way.\n",
        "Nested dictionaries are useful when we need to represent real-world data with multiple levels, such as student information with details like marks, address, or contact numbers.\n",
        "For example, a nested dictionary can store multiple students with their individual details in a single structure.\n",
        "\"\"\"\n",
        "\n",
        "# Example:\n",
        "students = {\n",
        "    \"student1\": {\"name\": \"Rahul\", \"age\": 20, \"marks\": 85},\n",
        "    \"student2\": {\"name\": \"Aman\", \"age\": 21, \"marks\": 90}\n",
        "}\n",
        "\n",
        "print(students[\"student1\"][\"name\"])  # Output: Rahul\n",
        "print(students[\"student2\"][\"marks\"]) # Output: 90"
      ],
      "metadata": {
        "colab": {
          "base_uri": "https://localhost:8080/"
        },
        "id": "J9qVULUMVZhC",
        "outputId": "a5b9bfb4-3756-484e-cc12-8cf093452639"
      },
      "execution_count": 20,
      "outputs": [
        {
          "output_type": "stream",
          "name": "stdout",
          "text": [
            "Rahul\n",
            "90\n"
          ]
        }
      ]
    },
    {
      "cell_type": "markdown",
      "source": [
        "*Question* 17:  Describe the time complexity of accessing elements in a dictionary\n",
        "\n",
        "- In python, dictionaries use hash tables, so finding a value by its key is very fast. Usually, it takes constant time (O(1)), which means it doesn’t matter how big the dictionary is. This is much faster than searching in a list, where you might have to check each item."
      ],
      "metadata": {
        "id": "Rz7Smb07XTrT"
      }
    },
    {
      "cell_type": "markdown",
      "source": [
        "*Question* 18:  In what situations are lists preferred over dictionaries?\n",
        "\n",
        "- Lists are preferred over dictionaries when we need to store a collection of items in a specific order and don’t need to use keys to access them. They are useful for tasks like keeping a sequence of numbers, names, or any data that will be processed in order. Lists are also simpler to use when we just need to loop through elements or perform operations like sorting."
      ],
      "metadata": {
        "id": "jF7f2OfwX7Gb"
      }
    },
    {
      "cell_type": "code",
      "source": [
        "# Question 19:  Why are dictionaries considered unordered, and how does that affect data retrieval?\n",
        "\n",
        "\"\"\"Dictionaries in python are considered unordered because the items are stored based on their keys’ hash values rather than the order in which they were added.\n",
        "This means that when you look at a dictionary, the items may not appear in the same sequence you inserted them.\n",
        "However, this does not affect data retrieval, because you can still access any value directly using its key.\n",
        "For example, student[\"name\"] will always give the correct value regardless of the order of items in the dictionary.\"\"\"\n",
        "\n",
        "# Example:\n",
        "student = {\"name\": \"Rahul\", \"age\": 20, \"marks\": 85}\n",
        "print(student[\"marks\"])  # Output: 85\n"
      ],
      "metadata": {
        "colab": {
          "base_uri": "https://localhost:8080/"
        },
        "id": "UW6y_Xk2Xz62",
        "outputId": "c5ecab70-adaf-45f4-c227-ff4f4850223d"
      },
      "execution_count": 22,
      "outputs": [
        {
          "output_type": "stream",
          "name": "stdout",
          "text": [
            "85\n"
          ]
        }
      ]
    },
    {
      "cell_type": "code",
      "source": [
        "# Question 20:  Explain the difference between a list and a dictionary in terms of data retrieval.\n",
        "\n",
        "\"\"\"\n",
        "The main difference between a list and a dictionary in python is how data is retrieved.\n",
        "In a list, you access items using their index, which may require checking each item if you are searching by value.\n",
        "In a dictionary, you access items directly using keys, which allows much faster retrieval.\n",
        "This makes dictionaries more efficient when you need to look up values based on unique identifiers, while lists are better when you want to access items in a specific order.\n",
        "\"\"\"\n",
        "\n",
        "#Example:\n",
        "# Using a list\n",
        "marks = [85, 90, 78]\n",
        "print(marks[1])  # Output: 90\n",
        "\n",
        "# Using a dictionary\n",
        "student = {\"name\": \"Rahul\", \"age\": 20}\n",
        "print(student[\"age\"])  # Output: 20\n"
      ],
      "metadata": {
        "colab": {
          "base_uri": "https://localhost:8080/"
        },
        "id": "hfR35G0OZAlD",
        "outputId": "a273ff7b-d225-4024-bde2-98396a79d693"
      },
      "execution_count": 23,
      "outputs": [
        {
          "output_type": "stream",
          "name": "stdout",
          "text": [
            "90\n",
            "20\n"
          ]
        }
      ]
    },
    {
      "cell_type": "markdown",
      "source": [
        "#  Practical Questions"
      ],
      "metadata": {
        "id": "s_3tce7JieY1"
      }
    },
    {
      "cell_type": "code",
      "source": [
        "# Question 1:  Write a code to create a string with your name and print it\n",
        "\n",
        "name = \"Raushan\"\n",
        "print(name)\n"
      ],
      "metadata": {
        "colab": {
          "base_uri": "https://localhost:8080/"
        },
        "id": "go3dhq_2afOe",
        "outputId": "b3f3a8c8-aeeb-4fea-d906-0fafa4f994a0"
      },
      "execution_count": 35,
      "outputs": [
        {
          "output_type": "stream",
          "name": "stdout",
          "text": [
            "Raushan\n"
          ]
        }
      ]
    },
    {
      "cell_type": "code",
      "source": [
        "# Question 2: Write a code to find the length of the string \"Hello World\"\n",
        "\n",
        "str = \"Hello World\"\n",
        "len(str)\n"
      ],
      "metadata": {
        "colab": {
          "base_uri": "https://localhost:8080/"
        },
        "id": "OJDLPCQviz09",
        "outputId": "7a815715-309c-47cd-cd85-7742f4ab683a"
      },
      "execution_count": 36,
      "outputs": [
        {
          "output_type": "execute_result",
          "data": {
            "text/plain": [
              "11"
            ]
          },
          "metadata": {},
          "execution_count": 36
        }
      ]
    },
    {
      "cell_type": "code",
      "source": [
        "# Question 3:  Write a code to slice the first 3 characters from the string \"Python Programming\"\n",
        "\n",
        "text = \"Python Programming\"\n",
        "text[:3]\n"
      ],
      "metadata": {
        "colab": {
          "base_uri": "https://localhost:8080/",
          "height": 36
        },
        "id": "2Fa_LTQkjey5",
        "outputId": "88eb5f60-f400-4d5e-ee7e-b6e7e9ae2459"
      },
      "execution_count": 37,
      "outputs": [
        {
          "output_type": "execute_result",
          "data": {
            "text/plain": [
              "'Pyt'"
            ],
            "application/vnd.google.colaboratory.intrinsic+json": {
              "type": "string"
            }
          },
          "metadata": {},
          "execution_count": 37
        }
      ]
    },
    {
      "cell_type": "code",
      "source": [
        "# Question 4: Write a code to convert the string \"hello\" to uppercase\n",
        "\n",
        "str = \"hello\"\n",
        "str.upper()"
      ],
      "metadata": {
        "colab": {
          "base_uri": "https://localhost:8080/",
          "height": 36
        },
        "id": "aGZdfOp3kU0b",
        "outputId": "79bf542a-0e4a-42be-d201-20a8857d7480"
      },
      "execution_count": 55,
      "outputs": [
        {
          "output_type": "execute_result",
          "data": {
            "text/plain": [
              "'HELLO'"
            ],
            "application/vnd.google.colaboratory.intrinsic+json": {
              "type": "string"
            }
          },
          "metadata": {},
          "execution_count": 55
        }
      ]
    },
    {
      "cell_type": "code",
      "source": [
        "# Question 5: Write a code to replace the word \"apple\" with \"orange\" in the string \"I like apple\"\n",
        "\n",
        "# Original string\n",
        "a = \"I like apple\"\n",
        "# Replacing \"apple\" with \"orange\"\n",
        "b = a.replace(\"apple\",\"orange\")\n",
        "print(b)\n"
      ],
      "metadata": {
        "colab": {
          "base_uri": "https://localhost:8080/"
        },
        "id": "HvkUlD1qlK7E",
        "outputId": "b797787c-6da0-49f3-ea5c-8ed2f9ea2742"
      },
      "execution_count": 45,
      "outputs": [
        {
          "output_type": "stream",
          "name": "stdout",
          "text": [
            "I like orange\n"
          ]
        }
      ]
    },
    {
      "cell_type": "code",
      "source": [
        "# Question 6: Write a code to create a list with numbers 1 to 5 and print it\n",
        "\n",
        "list = [1,2,3,4,5]\n",
        "print(list)"
      ],
      "metadata": {
        "colab": {
          "base_uri": "https://localhost:8080/"
        },
        "id": "U2dgyjKnl8TX",
        "outputId": "aa85508a-9b0a-450a-85d7-ae1e5a552906"
      },
      "execution_count": 46,
      "outputs": [
        {
          "output_type": "stream",
          "name": "stdout",
          "text": [
            "[1, 2, 3, 4, 5]\n"
          ]
        }
      ]
    },
    {
      "cell_type": "code",
      "source": [
        "# Question 7: Write a code to append the number 10 to the list [1, 2, 3, 4]\n",
        "\n",
        "list = [1,2,3,4]\n",
        "list.append(10)\n",
        "print(list)"
      ],
      "metadata": {
        "colab": {
          "base_uri": "https://localhost:8080/"
        },
        "id": "opDx7VPYnWtP",
        "outputId": "6bb5bf18-73b9-438f-f61f-2c47644ccbe3"
      },
      "execution_count": 47,
      "outputs": [
        {
          "output_type": "stream",
          "name": "stdout",
          "text": [
            "[1, 2, 3, 4, 10]\n"
          ]
        }
      ]
    },
    {
      "cell_type": "code",
      "source": [
        "# Question 8: Write a code to remove the number 3 from the list [1, 2, 3, 4, 5]\n",
        "\n",
        "list = [1,2,3,4,5]\n",
        "list.remove(3)\n",
        "print(list)"
      ],
      "metadata": {
        "colab": {
          "base_uri": "https://localhost:8080/"
        },
        "id": "z4d7x0drn4au",
        "outputId": "e4b2dba1-56c3-4c26-957b-7742959bf2bb"
      },
      "execution_count": 49,
      "outputs": [
        {
          "output_type": "stream",
          "name": "stdout",
          "text": [
            "[1, 2, 4, 5]\n"
          ]
        }
      ]
    },
    {
      "cell_type": "code",
      "source": [
        "# Question 9: Write a code to access the second element in the list ['a', 'b', 'c', 'd']\n",
        "\n",
        "list = ['a','b','c','d']\n",
        "list[1]"
      ],
      "metadata": {
        "colab": {
          "base_uri": "https://localhost:8080/",
          "height": 36
        },
        "id": "pRs2cJtAoY11",
        "outputId": "1d6cd408-7e30-4e7c-af1c-71e4e921e96e"
      },
      "execution_count": 51,
      "outputs": [
        {
          "output_type": "execute_result",
          "data": {
            "text/plain": [
              "'b'"
            ],
            "application/vnd.google.colaboratory.intrinsic+json": {
              "type": "string"
            }
          },
          "metadata": {},
          "execution_count": 51
        }
      ]
    },
    {
      "cell_type": "code",
      "source": [
        "# Question 10: Write a code to reverse the list [10, 20, 30, 40, 50]\n",
        "\n",
        "list = [10,20,30,40,50]\n",
        "list.reverse()\n",
        "print(list)\n"
      ],
      "metadata": {
        "colab": {
          "base_uri": "https://localhost:8080/"
        },
        "id": "zzFu-nR_pAHd",
        "outputId": "15f841b9-1e28-4ae2-f10a-4c23a00cc867"
      },
      "execution_count": 56,
      "outputs": [
        {
          "output_type": "stream",
          "name": "stdout",
          "text": [
            "[50, 40, 30, 20, 10]\n"
          ]
        }
      ]
    },
    {
      "cell_type": "code",
      "source": [
        "# Question 11: Write a code to create a tuple with the elements 100, 200, 300 and print it\n",
        "\n",
        "tuple = (100,200,300)\n",
        "print(tuple)"
      ],
      "metadata": {
        "colab": {
          "base_uri": "https://localhost:8080/"
        },
        "id": "NfM2rXJxphhJ",
        "outputId": "83cf85f6-e040-486c-a8cc-e1a74c1c9a14"
      },
      "execution_count": 57,
      "outputs": [
        {
          "output_type": "stream",
          "name": "stdout",
          "text": [
            "(100, 200, 300)\n"
          ]
        }
      ]
    },
    {
      "cell_type": "code",
      "source": [
        "# Question 12: Write a code to access the second-to-last element of the tuple ('red', 'green', 'blue', 'yellow')\n",
        "\n",
        "tuple = ('red', 'green', 'blue', 'yellow')\n",
        "tuple[-2]"
      ],
      "metadata": {
        "colab": {
          "base_uri": "https://localhost:8080/",
          "height": 36
        },
        "id": "ydc7yeBPuAw9",
        "outputId": "e2e247ea-6cc3-46df-e594-89a42dbb6d42"
      },
      "execution_count": 62,
      "outputs": [
        {
          "output_type": "execute_result",
          "data": {
            "text/plain": [
              "'blue'"
            ],
            "application/vnd.google.colaboratory.intrinsic+json": {
              "type": "string"
            }
          },
          "metadata": {},
          "execution_count": 62
        }
      ]
    },
    {
      "cell_type": "code",
      "source": [
        "# Question 13: Write a code to find the minimum number in the tuple (10, 20, 5, 15).\n",
        "\n",
        "# Tuple of numbers\n",
        "tuple = (10, 20, 5, 15)\n",
        "# Finding the minimum number\n",
        "min_number = min(tuple)\n",
        "print(min_number)\n"
      ],
      "metadata": {
        "colab": {
          "base_uri": "https://localhost:8080/"
        },
        "id": "Vy_TKAtvuN5v",
        "outputId": "11a66139-fdc1-4462-f99a-f11722a2e11d"
      },
      "execution_count": 64,
      "outputs": [
        {
          "output_type": "stream",
          "name": "stdout",
          "text": [
            "5\n"
          ]
        }
      ]
    },
    {
      "cell_type": "code",
      "source": [
        "# Question 14: Write a code to find the index of the element \"cat\" in the tuple ('dog', 'cat', 'rabbit')\n",
        "\n",
        "# Tuple of animals\n",
        "animals = ('dog', 'cat', 'rabbit')\n",
        "# Finding the index of \"cat\"\n",
        "index_cat = animals.index('cat')\n",
        "print(index_cat)            #Output will be 1"
      ],
      "metadata": {
        "colab": {
          "base_uri": "https://localhost:8080/"
        },
        "id": "dxZHhH1pu2ww",
        "outputId": "4fb41570-b3af-4553-d1a0-5c9e5317b83b"
      },
      "execution_count": 69,
      "outputs": [
        {
          "output_type": "stream",
          "name": "stdout",
          "text": [
            "1\n"
          ]
        }
      ]
    },
    {
      "cell_type": "code",
      "source": [
        "# Question 15:  Write a code to create a tuple containing three different fruits and check if \"kiwi\" is in it\n",
        "\n",
        "# Below are two different ways:\n",
        "tuple = (\"apple\", \"banana\", \"orange\")\n",
        "if \"kiwi\" in tuple:\n",
        "  print(\"kiwi is in the tuple\")\n",
        "else:\n",
        "  print(\"kiwi is not in the tuple\")  # Output will be kkiwi is not in the tuple\n",
        "\n",
        "# Or\n",
        "\n",
        "fruits = (\"mango\",\"guava\",\"pineapple\")\n",
        "print(\"kiwi\" in fruits)"
      ],
      "metadata": {
        "colab": {
          "base_uri": "https://localhost:8080/"
        },
        "id": "R1nvf3-8whEi",
        "outputId": "0aee0531-0c2a-4cb7-ab77-0a21d70177fc"
      },
      "execution_count": 71,
      "outputs": [
        {
          "output_type": "stream",
          "name": "stdout",
          "text": [
            "kiwi is not in the tuple\n",
            "False\n"
          ]
        }
      ]
    },
    {
      "cell_type": "code",
      "source": [
        "# Question 16: Write a code to create a set with the elements 'a', 'b', 'c' and print it.\n",
        "\n",
        "my_set = {'a','b','c'}\n",
        "print(my_set)"
      ],
      "metadata": {
        "colab": {
          "base_uri": "https://localhost:8080/"
        },
        "id": "aQGx4Y8-xZRJ",
        "outputId": "3a831bc2-9b05-49ac-a392-78c366eb64db"
      },
      "execution_count": 147,
      "outputs": [
        {
          "output_type": "stream",
          "name": "stdout",
          "text": [
            "{'a', 'b', 'c'}\n"
          ]
        }
      ]
    },
    {
      "cell_type": "code",
      "source": [
        "# Question 17: Write a code to clear all elements from the set {1, 2, 3, 4, 5}.\n",
        "\n",
        "B = {1,2,3,4,5}\n",
        "B.clear()\n",
        "print(B)"
      ],
      "metadata": {
        "colab": {
          "base_uri": "https://localhost:8080/"
        },
        "id": "YoodT8mUzGlK",
        "outputId": "4b4fe612-15d1-4738-c066-c1990d831f28"
      },
      "execution_count": 129,
      "outputs": [
        {
          "output_type": "stream",
          "name": "stdout",
          "text": [
            "set()\n"
          ]
        }
      ]
    },
    {
      "cell_type": "code",
      "source": [
        "# Question 18: Write a code to remove the element 4 from the set {1, 2, 3, 4}.\n",
        "\n",
        "C = {1, 2, 3, 4}\n",
        "C.remove(4)\n",
        "print(C)"
      ],
      "metadata": {
        "colab": {
          "base_uri": "https://localhost:8080/"
        },
        "id": "XTaYDbSnziAF",
        "outputId": "e24ec5c2-e161-4d66-c3dd-8b1a2e947583"
      },
      "execution_count": 130,
      "outputs": [
        {
          "output_type": "stream",
          "name": "stdout",
          "text": [
            "{1, 2, 3}\n"
          ]
        }
      ]
    },
    {
      "cell_type": "code",
      "source": [
        "# Question 19: Write a code to find the union of two sets {1, 2, 3} and {3, 4, 5}.\n",
        "\n",
        "D = {1, 2, 3}\n",
        "G = {3, 4, 5}\n",
        "union_set = D.union(G)\n",
        "print(union_set)"
      ],
      "metadata": {
        "colab": {
          "base_uri": "https://localhost:8080/"
        },
        "id": "GwRDgD43zz2t",
        "outputId": "9ababbee-a352-46ca-e04a-4155e342c270"
      },
      "execution_count": 134,
      "outputs": [
        {
          "output_type": "stream",
          "name": "stdout",
          "text": [
            "{1, 2, 3, 4, 5}\n"
          ]
        }
      ]
    },
    {
      "cell_type": "code",
      "source": [
        "# Question 20: Write a code to find the intersection of two sets {1, 2, 3} and {2, 3, 4}\n",
        "\n",
        "H = {1, 2, 3}\n",
        "I = {2, 3, 4}\n",
        "intersection_set = H.intersection(I)\n",
        "print(intersection_set)"
      ],
      "metadata": {
        "colab": {
          "base_uri": "https://localhost:8080/"
        },
        "id": "b2I-PR4-06qM",
        "outputId": "ebab4773-8b65-4327-fb49-3505b3848c6e"
      },
      "execution_count": 137,
      "outputs": [
        {
          "output_type": "stream",
          "name": "stdout",
          "text": [
            "{2, 3}\n"
          ]
        }
      ]
    },
    {
      "cell_type": "code",
      "source": [
        "# Question 21: Write a code to create a dictionary with the keys \"name\", \"age\", and \"city\", and print it\n",
        "\n",
        "dictionary = {\"name\": \"Raushan\", \"age\": 20, \"city\": \"Patna\"}\n",
        "print(dictionary)"
      ],
      "metadata": {
        "colab": {
          "base_uri": "https://localhost:8080/"
        },
        "id": "Px9Grkxd1RQ4",
        "outputId": "0bda4585-7ebf-4c4d-a7b6-0bf13e0a35ec"
      },
      "execution_count": 84,
      "outputs": [
        {
          "output_type": "stream",
          "name": "stdout",
          "text": [
            "{'name': 'Raushan', 'age': 20, 'city': 'Patna'}\n"
          ]
        }
      ]
    },
    {
      "cell_type": "code",
      "source": [
        "# Question 22: Write a code to add a new key-value pair \"country\": \"USA\" to the dictionary {'name': 'John', 'age': 25}\n",
        "\n",
        "dictionary = {'name': 'John', 'age': 25}\n",
        "dictionary.update({\"country\":\"USA\"})\n",
        "print(dictionary)"
      ],
      "metadata": {
        "colab": {
          "base_uri": "https://localhost:8080/"
        },
        "id": "KgataaxD2YUt",
        "outputId": "85087dae-1725-452a-8dc0-a856af55973c"
      },
      "execution_count": 89,
      "outputs": [
        {
          "output_type": "stream",
          "name": "stdout",
          "text": [
            "{'name': 'John', 'age': 25, 'country': 'USA'}\n"
          ]
        }
      ]
    },
    {
      "cell_type": "code",
      "source": [
        "# Question 23: Write a code to access the value associated with the key \"name\" in the dictionary {'name': 'Alice', 'age': 30}.\n",
        "\n",
        "dictionary = {'name': 'Alice', 'age': 30}\n",
        "dictionary[\"name\"]"
      ],
      "metadata": {
        "colab": {
          "base_uri": "https://localhost:8080/",
          "height": 36
        },
        "id": "b6gwgQjV3MnR",
        "outputId": "eb092243-ce00-4ef9-a020-3e9f84a3224c"
      },
      "execution_count": 92,
      "outputs": [
        {
          "output_type": "execute_result",
          "data": {
            "text/plain": [
              "'Alice'"
            ],
            "application/vnd.google.colaboratory.intrinsic+json": {
              "type": "string"
            }
          },
          "metadata": {},
          "execution_count": 92
        }
      ]
    },
    {
      "cell_type": "code",
      "source": [
        "# Question 24: Write a code to remove the key \"age\" from the dictionary {'name': 'Bob', 'age': 22, 'city': 'New York'}.\n",
        "\n",
        "dictionary = {'name': 'Bob', 'age': 22, 'city': 'New York'}\n",
        "dictionary.pop(\"age\")\n",
        "print(dictionary)"
      ],
      "metadata": {
        "colab": {
          "base_uri": "https://localhost:8080/"
        },
        "id": "tOehLFlq4HqX",
        "outputId": "08985244-4838-44a2-c596-a9eaf0df6d6b"
      },
      "execution_count": 94,
      "outputs": [
        {
          "output_type": "stream",
          "name": "stdout",
          "text": [
            "{'name': 'Bob', 'city': 'New York'}\n"
          ]
        }
      ]
    },
    {
      "cell_type": "code",
      "source": [
        "# Question 25: Write a code to check if the key \"city\" exists in the dictionary {'name': 'Alice', 'city': 'Paris'}\n",
        "\n",
        "# Two ways:\n",
        "dictionary = {'name': 'Alice', 'city': 'Paris'}\n",
        "if \"city\" in dictionary:\n",
        "  print(\"city exists in the dictionary\")\n",
        "else:\n",
        "  print(\"city does not exist in the dictionary\")\n",
        "\n",
        "#Or\n",
        "\n",
        "dictionary = {'name':'Alice', 'city':'Paris'}\n",
        "print(\"city\" in dictionary)\n"
      ],
      "metadata": {
        "colab": {
          "base_uri": "https://localhost:8080/"
        },
        "id": "bL1Kmjvt43Xh",
        "outputId": "06c45fb8-033d-4f57-81e7-17ee85f7345f"
      },
      "execution_count": 99,
      "outputs": [
        {
          "output_type": "stream",
          "name": "stdout",
          "text": [
            "city exists in the dictionary\n",
            "True\n"
          ]
        }
      ]
    },
    {
      "cell_type": "code",
      "source": [
        "# Question 26: Write a code to create a list, a tuple, and a dictionary, and print them all.\n",
        "\n",
        "my_list = [1,2,3]\n",
        "my_tuple = (4,5,6)\n",
        "my_dictionary = {\"name\":\"Raushan\", \"age\":22}\n",
        "print(\"List:\",my_list)\n",
        "print(\"Tuple:\",my_tuple)\n",
        "print(\"Dictionary:\",my_dictionary)"
      ],
      "metadata": {
        "colab": {
          "base_uri": "https://localhost:8080/"
        },
        "id": "qD6B0diX57p0",
        "outputId": "6aee0919-5d2f-4311-9351-48c5e600d2fd"
      },
      "execution_count": 107,
      "outputs": [
        {
          "output_type": "stream",
          "name": "stdout",
          "text": [
            "List: [1, 2, 3]\n",
            "Tuple: (4, 5, 6)\n",
            "Dictionary: {'name': 'Raushan', 'age': 22}\n"
          ]
        }
      ]
    },
    {
      "cell_type": "code",
      "source": [
        "# Question 27: Write a code to create a list of 5 random numbers between 1 and 100, sort it in ascending order, and print the result.(replaced)\n",
        "\n",
        "import random\n",
        "\n",
        "# List of 5 random numbers\n",
        "numbers = []\n",
        "for i in range(5):\n",
        "    numbers.append(random.randint(1, 100))\n",
        "\n",
        "# Sorting the list\n",
        "numbers.sort()\n",
        "\n",
        "# Printing the list\n",
        "print(numbers)\n",
        "\n"
      ],
      "metadata": {
        "colab": {
          "base_uri": "https://localhost:8080/"
        },
        "id": "2UgWlzFR8V8D",
        "outputId": "d436cceb-35e8-473d-ea90-692ef80750ca"
      },
      "execution_count": 110,
      "outputs": [
        {
          "output_type": "stream",
          "name": "stdout",
          "text": [
            "[26, 33, 64, 68, 81]\n"
          ]
        }
      ]
    },
    {
      "cell_type": "code",
      "source": [
        "# Question 28: Write a code to create a list with strings and print the element at the third index.\n",
        "\n",
        "list = [\"pwskills\",\"Raushan\",\"Data\",\"King\"]\n",
        "print(list[3])"
      ],
      "metadata": {
        "colab": {
          "base_uri": "https://localhost:8080/"
        },
        "id": "s3-W0L08-YL0",
        "outputId": "9870bb5e-1788-46ad-ce69-ae3e49152c56"
      },
      "execution_count": 114,
      "outputs": [
        {
          "output_type": "stream",
          "name": "stdout",
          "text": [
            "King\n"
          ]
        }
      ]
    },
    {
      "cell_type": "code",
      "source": [
        "# Question 29: Write a code to combine two dictionaries into one and print the result\n",
        "\n",
        "# Two dictionaries\n",
        "dict1 = {\"a\": 1, \"b\": 2}\n",
        "dict2 = {\"c\": 3, \"d\": 4}\n",
        "\n",
        "# Combining dictionaries\n",
        "combined_dict = {**dict1, **dict2}\n",
        "\n",
        "# Printing the result\n",
        "print(combined_dict)\n"
      ],
      "metadata": {
        "colab": {
          "base_uri": "https://localhost:8080/"
        },
        "id": "RYnRBlBI-66J",
        "outputId": "751ecee7-96ea-474e-b61f-44764ff964d3"
      },
      "execution_count": 115,
      "outputs": [
        {
          "output_type": "stream",
          "name": "stdout",
          "text": [
            "{'a': 1, 'b': 2, 'c': 3, 'd': 4}\n"
          ]
        }
      ]
    },
    {
      "cell_type": "code",
      "source": [
        "# Question 30: Write a code to convert a list of strings into a set\n",
        "\n",
        "# List of strings\n",
        "players_list = [\"Virat\", \"Hardik\", \"Rohit\", \"Dhoni\"]\n",
        "\n",
        "# Converting list to set\n",
        "unique_players = set(players_list)\n",
        "\n",
        "print(unique_players)\n"
      ],
      "metadata": {
        "colab": {
          "base_uri": "https://localhost:8080/"
        },
        "id": "p62ZTBsYFaO1",
        "outputId": "d421ed61-9729-4e26-ccd6-9e7e30a18305"
      },
      "execution_count": 151,
      "outputs": [
        {
          "output_type": "stream",
          "name": "stdout",
          "text": [
            "{'Virat', 'Rohit', 'Dhoni', 'Hardik'}\n"
          ]
        }
      ]
    }
  ]
}